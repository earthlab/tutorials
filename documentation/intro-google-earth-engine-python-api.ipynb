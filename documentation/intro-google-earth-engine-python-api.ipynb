{
 "cells": [
  {
   "cell_type": "markdown",
   "metadata": {
    "deletable": true,
    "editable": true
   },
   "source": [
    "---\n",
    "layout: single\n",
    "title: 'Introduction to the Google Earth Engine Python API'\n",
    "date: 2016-09-01\n",
    "authors: [Matt Oakley, Zach Schira]\n",
    "category: [tutorials]\n",
    "excerpt: 'This tutorial outlines the process of installing the Google Earth Engine Python API client.'\n",
    "sidebar:\n",
    "  nav:\n",
    "author_profile: false\n",
    "comments: true\n",
    "lang: [python]\n",
    "lib: [ee]\n",
    "---\n",
    "\n",
    "In addition to the web-based IDE Google Earth Engine also provides a Python API that can be run in a docker container on your local machine.\n",
    "This tutorial will go over how to setup the API on your machine, as well as some basic Python scripts utilizing the API.\n",
    "\n",
    "\n",
    "## setup\n",
    "\n",
    "### Installing docker\n",
    "1. Find and install the correct version of [docker](https://store.docker.com/search?type=edition&offering=community). If you are using osx or windows this should be as simple as downloading and running an installer. On Ubuntu you can follow these [instructions](https://docs.docker.com/engine/installation/linux/docker-ce/ubuntu/#install-using-the-repository)\n",
    "2. After you have installed docker, verify your installation by running the following command `$ sudo docker run hello-world`. This should print an informational message to your terminal.\n",
    "\n",
    "### Earth Engine python Datalab Installation\n",
    "Next, use the commands found [here](https://developers.google.com/earth-engine/python_install-datalab-local) to set up a workspace, and create a docker container.\n",
    "\n",
    "### Authentication\n",
    "After you have created a container you should be able to open Datalab in your browser. In Datalab, navigate to the `docs-earthengine` directory and open the `authorize_notebook_server.ipynb` notebook. Follow these instructions to complete the authentication process. Once authenticated you can begin to use Earth Engine.\n",
    "\n",
    "## Usage\n",
    "To use the following code, you will have to upload this notebook to Datalab. To do this simply navigate to the notebooks folder, and click upload.\n",
    "\n",
    "First you will need to import Earth Engine and initialize the session. If you have correctly followed the authentication step your credentials should be saved in the docker container, and you should have no problem with initialization."
   ]
  },
  {
   "cell_type": "code",
   "execution_count": 1,
   "metadata": {
    "collapsed": false,
    "deletable": true,
    "editable": true
   },
   "outputs": [
    {
     "name": "stdout",
     "output_type": "stream",
     "text": [
      "YOUR_PROJECT_ID\n"
     ]
    }
   ],
   "source": [
    "import ee\n",
    "from IPython.display import Image\n",
    "\n",
    "ee.Initialize()"
   ]
  },
  {
   "cell_type": "markdown",
   "metadata": {},
   "source": [
    "Now you can retrieve data from Earth Engine, and use the `Image` module to display the images."
   ]
  },
  {
   "cell_type": "code",
   "execution_count": 2,
   "metadata": {
    "collapsed": false,
    "deletable": true,
    "editable": true
   },
   "outputs": [
    {
     "data": {
      "text/html": [
       "<img src=\"https://earthengine.googleapis.com/api/thumb?thumbid=4f10b1a8446dd86c568c9a48fee21555&token=7b40b5c098845363efd413de80537137\"/>"
      ],
      "text/plain": [
       "<IPython.core.display.Image object>"
      ]
     },
     "execution_count": 2,
     "metadata": {},
     "output_type": "execute_result"
    }
   ],
   "source": [
    "url = ee.Image(\"CGIAR/SRTM90_V4\").getThumbUrl({'min':0, 'max':3000})\n",
    "Image(url=url)"
   ]
  },
  {
   "cell_type": "markdown",
   "metadata": {},
   "source": [
    "There are a number of [parameters](https://developers.google.com/earth-engine/image_visualization) you can use when displaying images. The following section of code selects a landsat image of San Fransisco, and defines several of these parameters. You can follow the tutorials on the previous page to learn more about Earth Engine. These are all written for the javascript api, but the python api includes many of the same features."
   ]
  },
  {
   "cell_type": "code",
   "execution_count": 4,
   "metadata": {
    "collapsed": false,
    "deletable": true,
    "editable": true
   },
   "outputs": [
    {
     "data": {
      "text/html": [
       "<img src=\"https://earthengine.googleapis.com/api/thumb?thumbid=7fadec9a9d2a36be007236ec4f63d99b&token=24cfad7536c1c8cc2f1e2c78318c069a\"/>"
      ],
      "text/plain": [
       "<IPython.core.display.Image object>"
      ]
     },
     "execution_count": 4,
     "metadata": {},
     "output_type": "execute_result"
    }
   ],
   "source": [
    "vizParams = {\n",
    "  'bands': 'B5',\n",
    "  'min': 0,\n",
    "  'max': 0.5,\n",
    "  'gamma': 1\n",
    "}\n",
    "\n",
    "image = ee.Image('LANDSAT/LC8_L1T_TOA/LC80440342014077LGN00').getThumbUrl(vizParams)\n",
    "Image(url=image)"
   ]
  },
  {
   "cell_type": "code",
   "execution_count": null,
   "metadata": {
    "collapsed": true
   },
   "outputs": [],
   "source": []
  }
 ],
 "metadata": {
  "kernelspec": {
   "display_name": "Python 2",
   "language": "python",
   "name": "python2"
  },
  "language_info": {
   "codemirror_mode": {
    "name": "ipython",
    "version": 2
   },
   "file_extension": ".py",
   "mimetype": "text/x-python",
   "name": "python",
   "nbconvert_exporter": "python",
   "pygments_lexer": "ipython2",
   "version": "2.7.12"
  }
 },
 "nbformat": 4,
 "nbformat_minor": 2
}
