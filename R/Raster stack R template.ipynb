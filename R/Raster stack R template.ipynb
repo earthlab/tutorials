{
 "cells": [
  {
   "cell_type": "markdown",
   "metadata": {},
   "source": [
    "# Create Raster Stack of SMAP data"
   ]
  },
  {
   "cell_type": "markdown",
   "metadata": {},
   "source": [
    "## Objectives\n",
    "\n",
    "- Read SMAP data from h5 file\n",
    "- Create raster\n",
    "- Add raster to raster stack, and save as geotiff file"
   ]
  },
  {
   "cell_type": "markdown",
   "metadata": {
    "collapsed": true
   },
   "source": [
    "## Prerequisites"
   ]
  },
  {
   "cell_type": "markdown",
   "metadata": {},
   "source": [
    "Necessary libraries- \n",
    "    - rhdf5\n",
    "    - raster\n",
    "    - rdgal\n",
    "    - sp\n",
    "Install these packages using the following code"
   ]
  },
  {
   "cell_type": "code",
   "execution_count": null,
   "metadata": {
    "collapsed": false
   },
   "outputs": [],
   "source": [
    "install.packages(\"sp\",repos=\"http://cran.rstudio.com/\")\n",
    "install.packages(\"raster\",repos=\"http://cran.rstudio.com/\")\n",
    "source(\"https://bioconductor.org/biocLite.R\")\n",
    "biocLite(\"rgdal\")\n",
    "biocLite(\"rhdf5\")"
   ]
  },
  {
   "cell_type": "markdown",
   "metadata": {},
   "source": [
    "If you already have these packages installed confirm that you are using the most up-to-date versions"
   ]
  },
  {
   "cell_type": "code",
   "execution_count": null,
   "metadata": {
    "collapsed": false
   },
   "outputs": [],
   "source": [
    "update.packages(\"sp\",repos=\"http://cran.rstudio.com/\")\n",
    "update.packages(\"raster\",repos=\"http://cran.rstudio.com/\")\n",
    "source(\"https://bioconductor.org/biocLite.R\")\n",
    "biocLite(\"rgdal\")\n",
    "biocLite(\"rhdf5\")"
   ]
  },
  {
   "cell_type": "markdown",
   "metadata": {},
   "source": [
    "## Getting Data\n",
    "\n",
    "To access the SMAP data call download.file, with the first argument being the url where the data is located, and the second being the file name and path where you want to store the data this can be repeated with as many files as are needed"
   ]
  },
  {
   "cell_type": "code",
   "execution_count": null,
   "metadata": {
    "collapsed": false
   },
   "outputs": [],
   "source": [
    "download.file('ftp://n5eil01u.ecs.nsidc.org/SAN/SMAP/SPL4SMGP.001/2015.04.01/SMAP_L4_SM_gph_20150401T013000_Vb1010_001.h5',\n",
    "             'SMAP_1.h5')"
   ]
  },
  {
   "cell_type": "markdown",
   "metadata": {},
   "source": [
    "## Reading SMAP\n",
    "\n",
    "Include necessary packages, and find the dataset(s) you would like to read in"
   ]
  },
  {
   "cell_type": "code",
   "execution_count": null,
   "metadata": {
    "collapsed": false
   },
   "outputs": [],
   "source": [
    "library(sp)\n",
    "library(rhdf5)\n",
    "library(raster)\n",
    "library(rgdal)\n",
    "\n",
    "#File name and group where data is located\n",
    "input_file=paste0('SMAP.h5')#file name and path\n",
    "group='Geophysical_Data'\n",
    "h5f=H5Fopen(input_file)\n",
    "h5f&'Geophysical_Data'#Print out all datasets in the geophysical data group"
   ]
  },
  {
   "cell_type": "markdown",
   "metadata": {},
   "source": [
    "Read data from each desired dataset from the h5 file, and create raster layer to be added to the stack"
   ]
  },
  {
   "cell_type": "code",
   "execution_count": null,
   "metadata": {
    "collapsed": false
   },
   "outputs": [],
   "source": [
    "#Define datasets\n",
    "dataset=c('sm_rootzone','heat_flux_ground')#possible sets to read in\n",
    "numSets=length(dataset)\n",
    "x=vector(\"list\",numSets)#list containing all raster objects\n",
    "missing_vals=-9999\n",
    "#For loop to read in data from each set until \n",
    "for (i in 1:numSets){\n",
    "    #read h5 file and get data from desired set\n",
    "    input <- h5read(input_file, paste0('/', group, '/', dataset[[i]]))\n",
    "    #exclude missing values\n",
    "    input[input == missing_vals] <- NA\n",
    "    #create raster and transpose\n",
    "    r <- raster(t(input))\n",
    "    #create vector of lat/lon values\n",
    "    lat <- apply(h5read(input_file, '/cell_lat'), 2, unique)\n",
    "    lon <- apply(h5read(input_file, '/cell_lon'), 2, unique)\n",
    "    #geographical crs input\n",
    "    crs = '+proj=longlat +lat_0=0 +lon_0=0 +lat_ts=30 \n",
    "                    +ellps=WGS84 +datum=WGS84 +units=m'\n",
    "    crs_in = '+proj=cea +lat_0=0 +lon_0=0 +lat_ts=30 \n",
    "                    +ellps=WGS84 +datum=WGS84 +units=m'\n",
    "    #create raster using lon/lat and project raster onto crs_in to find extent of data\n",
    "    ex <- extent(projectExtent(raster(extent(range(lon), range(lat)),\n",
    "                                        crs),\n",
    "                                        crs_in))\n",
    "    extent(r) <- ex\n",
    "    projection(r) <- CRS(crs_in)\n",
    "    crs_out = \"+init=epsg:4326\"#defines global coordinate reference system\n",
    "    smap <- projectRaster(r, crs = crs_out)#create final raster projected on global crs\n",
    "    x[[i]]<-smap#add raster to list\n",
    "}#end for loop"
   ]
  },
  {
   "cell_type": "markdown",
   "metadata": {},
   "source": [
    "## Creating Raster Stack\n",
    "\n",
    "The stack function takes a list of raster ojects as an argument and creates a raster stack with each layer being one of the rasters in the list"
   ]
  },
  {
   "cell_type": "code",
   "execution_count": null,
   "metadata": {
    "collapsed": true
   },
   "outputs": [],
   "source": [
    "#create raster stack\n",
    "stck <-stack(x)\n",
    "#define layer names \n",
    "for(i in 1:numSets){\n",
    "    names(stck)[i]<-datasets[[i]]\n",
    "}\n",
    "#save raster stack to a geotiff file\n",
    "writeRaster(stck,'smap_stack.tif', format = 'GTiff', overwrite=TRUE)"
   ]
  }
 ],
 "metadata": {
  "kernelspec": {
   "display_name": "R",
   "language": "R",
   "name": "ir"
  },
  "language_info": {
   "codemirror_mode": "r",
   "file_extension": ".r",
   "mimetype": "text/x-r-source",
   "name": "R",
   "pygments_lexer": "r",
   "version": "3.2.4"
  }
 },
 "nbformat": 4,
 "nbformat_minor": 0
}
