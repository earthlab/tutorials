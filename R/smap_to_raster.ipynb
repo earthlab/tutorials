{
 "cells": [
  {
   "cell_type": "markdown",
   "metadata": {},
   "source": [
    "# Create Raster Stack from data in hdf5 format"
   ]
  },
  {
   "cell_type": "markdown",
   "metadata": {},
   "source": [
    "## About\n",
    "\n",
    "The National Snow and Ice Data Center hosts soil moisture data (from the NASA Soil Moisture Active Passive project, described [here](https://nsidc.org/data/smap), and hereafter referred to as SMAP) which is provided in .h5 format. HDF5 is a \"hierarchical\" data format, with multiple groups and datasets (further explained in Step 2) which are useful for storing and organizing large amounts of data. While this format is great for the large amount of data being collected, we often want to utilize a single dataset within the file.\n",
    "\n",
    "This tutorial demonstrates how to access SMAP data, and how to generate raster output from an HDF5 file. A raster is a two dimensional array, with each element in the array containing a specific value. In this case, the two dimensions correspond to longitude and latitude, and the elements or values represent soil moisture."
   ]
  },
  {
   "cell_type": "markdown",
   "metadata": {},
   "source": [
    "## Objectives\n",
    "\n",
    "- Read SMAP data from h5 file\n",
    "- Create raster from desired dataset(s)\n",
    "- Add rasters to raster stack, and save stack as geotiff file"
   ]
  },
  {
   "cell_type": "markdown",
   "metadata": {
    "collapsed": true
   },
   "source": [
    "## Dependencies\n",
    "\n",
    "Necessary libraries-\n",
    "- rhdf5\n",
    "- raster\n",
    "- rdgal\n",
    "- sp\n",
    "\n",
    "Install these packages using the following code"
   ]
  },
  {
   "cell_type": "code",
   "execution_count": null,
   "metadata": {
    "collapsed": false
   },
   "outputs": [],
   "source": [
    "install.packages(\"sp\", repos=\"http://cran.rstudio.com/\")\n",
    "install.packages(\"raster\", repos=\"http://cran.rstudio.com/\")\n",
    "install.packages(\"rgdal\", repos=\"http://cran.rstudio.com/\")\n",
    "source(\"https://bioconductor.org/biocLite.R\")\n",
    "biocLite(\"rhdf5\")"
   ]
  },
  {
   "cell_type": "markdown",
   "metadata": {},
   "source": [
    "If you already have these packages installed confirm that you are using the most up-to-date versions"
   ]
  },
  {
   "cell_type": "code",
   "execution_count": null,
   "metadata": {
    "collapsed": false
   },
   "outputs": [],
   "source": [
    "update.packages(\"sp\", repos=\"http://cran.rstudio.com/\")\n",
    "update.packages(\"raster\", repos=\"http://cran.rstudio.com/\")\n",
    "source(\"https://bioconductor.org/biocLite.R\")\n",
    "biocLite(\"rgdal\")\n",
    "biocLite(\"rhdf5\")"
   ]
  },
  {
   "cell_type": "markdown",
   "metadata": {},
   "source": [
    "## Getting Data\n",
    "\n",
    "To access the SMAP data call download.file with the first argument being the url where the data is located, and the second being the file name and path where you want to store the data. This will work with any h5 files you would like to analyze."
   ]
  },
  {
   "cell_type": "code",
   "execution_count": null,
   "metadata": {
    "collapsed": false
   },
   "outputs": [],
   "source": [
    "input_file <- 'SMAP.h5'#save h5 file here\n",
    "download.file('ftp://n5eil01u.ecs.nsidc.org/SAN/SMAP/SPL4SMGP.001/2015.04.01/SMAP_L4_SM_gph_20150401T013000_Vb1010_001.h5',\n",
    "             input_file)"
   ]
  },
  {
   "cell_type": "markdown",
   "metadata": {},
   "source": [
    "## Reading SMAP\n",
    "\n",
    "HDF5 files consist of 'Groups' and 'Datasets'. Datasets are multidimensional arrays of a homogenous type, and Groups are a container structure which hold numerous datasets. Groups are analogous to directories on your local file system. For more details on the structure of HDF5 files, see [this tutorial from the NEON Data Skills site](http://neondataskills.org/HDF5/About), or refer to the [HDF5 home page](https://www.hdfgroup.org/HDF5/).\n",
    "\n",
    "The following chunk of code prints the datasets within the \"Geophysical_Data\" group. From here you can choose the datasets you would like to analyze. Loading the libraries is done within the the suppressWarnings function because they are built within a different version of R than what is run in the kernel. This should not cause any problems in running the code."
   ]
  },
  {
   "cell_type": "code",
   "execution_count": null,
   "metadata": {
    "collapsed": false,
    "scrolled": true
   },
   "outputs": [],
   "source": [
    "# include necessary libraries\n",
    "suppressWarnings(library(sp))\n",
    "suppressWarnings(library(raster))\n",
    "suppressWarnings(library(rhdf5))\n",
    "suppressWarnings(library(rgdal))\n",
    "# file name and group where data is located\n",
    "group <- 'Geophysical_Data'\n",
    "h5f <- H5Fopen(input_file)\n",
    "h5f&'Geophysical_Data'#Print out all datasets in the geophysical data group"
   ]
  },
  {
   "cell_type": "markdown",
   "metadata": {},
   "source": [
    "## Creating Raster from h5\n",
    "\n",
    "The next step is define the datasets you would like to analyze, this example will use 'sm_rootzone' and 'heat_flux_ground' data. \n",
    "\n",
    "From here you can read in each dataset and create a raster layer from the data. These raster layers eventually be 'stacked' together to create the final raster stack.\n",
    "\n",
    "`suppressWarnings()` is used here because the h5 file is already open, which creates a warning when reading the file, but should not cause any problems."
   ]
  },
  {
   "cell_type": "code",
   "execution_count": null,
   "metadata": {
    "collapsed": false
   },
   "outputs": [],
   "source": [
    "# choose datasets to read\n",
    "data_to_read <- c('sm_rootzone','heat_flux_ground')\n",
    "num_sets <- length(data_to_read)\n",
    "list_of_rasters <- vector(\"list\", num_sets)\n",
    "\n",
    "get_dataset <- function(group, dataset) {\n",
    "  # helper function to create dataset paths, given a group and dataset\n",
    "  dataset_path <- paste0('/', group, '/', dataset)\n",
    "  dataset_path\n",
    "}\n",
    "# find spacial extent of SMAP image\n",
    "lat <- suppressWarnings(apply(h5read(input_file, '/cell_lat'), 2, unique))\n",
    "lon <- suppressWarnings(apply(h5read(input_file, '/cell_lon'), 2, unique))\n",
    "xmn <- min(lat)\n",
    "xmx <- max(lat)\n",
    "ymn <- min(lon)\n",
    "ymx <- max(lon)\n",
    "crs_out = \"+init=epsg:4326\"\n",
    "\n",
    "# read in each dataset and create raster\n",
    "for (i in 1:length(list_of_rasters)) {\n",
    "    data_array <- suppressWarnings(h5read(input_file, get_dataset(group, data_to_read[i])))\n",
    "    raster_i <- raster(t(data_array),xmn, xmx, ymn, ymx, crs = crs_out)\n",
    "    list_of_rasters[[i]] <- raster_i\n",
    "}"
   ]
  },
  {
   "cell_type": "markdown",
   "metadata": {},
   "source": [
    "## Creating Raster Stack\n",
    "\n",
    "The `stack()` function takes a list of raster ojects as an argument and creates a raster stack with each layer being one of the rasters in the list"
   ]
  },
  {
   "cell_type": "code",
   "execution_count": null,
   "metadata": {
    "collapsed": false
   },
   "outputs": [],
   "source": [
    "# create raster stack\n",
    "smap_stack <-stack(list_of_rasters)\n",
    "# define layer names \n",
    "for (i in 1:num_sets) {\n",
    "    names(smap_stack)[i]<-data_to_read[[i]]\n",
    "}\n",
    "# save raster stack to a geotiff file\n",
    "writeRaster(smap_stack,'smap_stack.tif', format = 'GTiff', \n",
    "            overwrite=TRUE)"
   ]
  },
  {
   "cell_type": "markdown",
   "metadata": {},
   "source": [
    "The raster library has many useful functions that allow you to better understand the data stored in the raster stack. The [names](http://www.inside-r.org/packages/cran/raster/docs/names) function, for example, allows you to see the what is in each layer, and change layer names as desired. [addLayer](http://www.inside-r.org/packages/cran/raster/docs/addLayer) and dropLayer allow you to add a layer to, or remove a layer from the stack"
   ]
  }
 ],
 "metadata": {
  "kernelspec": {
   "display_name": "R",
   "language": "R",
   "name": "ir"
  },
  "language_info": {
   "codemirror_mode": "r",
   "file_extension": ".r",
   "mimetype": "text/x-r-source",
   "name": "R",
   "pygments_lexer": "r",
   "version": "3.2.4"
  }
 },
 "nbformat": 4,
 "nbformat_minor": 0
}
