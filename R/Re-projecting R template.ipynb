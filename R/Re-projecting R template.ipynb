{
 "cells": [
  {
   "cell_type": "markdown",
   "metadata": {},
   "source": [
    "# Project SMAP data onto Landsat data and save as raster stack"
   ]
  },
  {
   "cell_type": "markdown",
   "metadata": {},
   "source": [
    "## Objectives\n",
    "\n",
    "- Read SMAP data from h5 file\n",
    "- Create raster\n",
    "- Create rasters from Landsat data\n",
    "- Project SMAP data onto Landsat data\n",
    "- Create raster stack containing bands from Landsat data and projection of SMAP data"
   ]
  },
  {
   "cell_type": "markdown",
   "metadata": {
    "collapsed": true
   },
   "source": [
    "## Prerequisites"
   ]
  },
  {
   "cell_type": "markdown",
   "metadata": {},
   "source": [
    "Necessary libraries- \n",
    "    - rhdf5\n",
    "    - raster\n",
    "    - rdgal\n",
    "    - sp\n",
    "Install these packages using the following code"
   ]
  },
  {
   "cell_type": "code",
   "execution_count": null,
   "metadata": {
    "collapsed": false
   },
   "outputs": [],
   "source": [
    "install.packages(\"sp\",repos=\"http://cran.rstudio.com/\")\n",
    "install.packages(\"raster\",repos=\"http://cran.rstudio.com/\")\n",
    "source(\"https://bioconductor.org/biocLite.R\")\n",
    "biocLite(\"rgdal\")\n",
    "biocLite(\"rhdf5\")"
   ]
  },
  {
   "cell_type": "markdown",
   "metadata": {},
   "source": [
    "If you already have these packages installed confirm that you are using the most up-to-date versions"
   ]
  },
  {
   "cell_type": "code",
   "execution_count": null,
   "metadata": {
    "collapsed": false
   },
   "outputs": [],
   "source": [
    "update.packages(\"sp\",repos=\"http://cran.rstudio.com/\")\n",
    "update.packages(\"raster\",repos=\"http://cran.rstudio.com/\")\n",
    "source(\"https://bioconductor.org/biocLite.R\")\n",
    "biocLite(\"rgdal\")\n",
    "biocLite(\"rhdf5\")"
   ]
  },
  {
   "cell_type": "markdown",
   "metadata": {},
   "source": [
    "## Getting Data\n",
    "\n",
    "### SMAP\n",
    "\n",
    "To access the SMAP data call download.file, with the first argument being the url where the data is located, and the second being the file name and path where you want to store the data this can be repeated with as many files as are needed"
   ]
  },
  {
   "cell_type": "code",
   "execution_count": 4,
   "metadata": {
    "collapsed": false
   },
   "outputs": [],
   "source": [
    "download.file('ftp://n5eil01u.ecs.nsidc.org/SAN/SMAP/SPL4SMGP.001/2015.04.01/SMAP_L4_SM_gph_20150401T013000_Vb1010_001.h5',\n",
    "             'SMAP_1.h5')"
   ]
  },
  {
   "cell_type": "markdown",
   "metadata": {},
   "source": [
    "### Landsat\n",
    "\n",
    "To acquire landsat data you will need the landsat-util command line utility. Information on installation can be found here http://landsat-util.readthedocs.io/en/latest/installation.html If you are using windows be sure to first install docker, and follow the instructions under the docker section for landsat-util installation in the docker terminal. \n",
    "\n",
    "Once you have installed landsat-util,] you can use the landsat commands described here http://landsat-util.readthedocs.io/en/latest/overview.html, to search for and download landsat data. Remember if you are using windows to proceed each landsat command with \n",
    "\n",
    "docker run -it -v ~/landsat:/root/landsat developmentseed/landsat-util:latest"
   ]
  },
  {
   "cell_type": "markdown",
   "metadata": {},
   "source": [
    "## Reading SMAP\n",
    "\n",
    "Include necessary packages, and find the dataset(s) you would like to read in"
   ]
  },
  {
   "cell_type": "code",
   "execution_count": 1,
   "metadata": {
    "collapsed": false
   },
   "outputs": [
    {
     "name": "stderr",
     "output_type": "stream",
     "text": [
      "Warning message:\n",
      ": package 'raster' was built under R version 3.2.5Loading required package: sp\n",
      "Warning message:\n",
      ": package 'sp' was built under R version 3.2.5Warning message:\n",
      ": package 'rgdal' was built under R version 3.2.5rgdal: version: 1.1-10, (SVN revision 622)\n",
      " Geospatial Data Abstraction Library extensions to R successfully loaded\n",
      " Loaded GDAL runtime: GDAL 2.0.1, released 2015/09/15\n",
      " Path to GDAL shared files: C:/Users/Zach/Anaconda3/R/library/rgdal/gdal\n",
      " GDAL does not use iconv for recoding strings.\n",
      " Loaded PROJ.4 runtime: Rel. 4.9.1, 04 March 2015, [PJ_VERSION: 491]\n",
      " Path to PROJ.4 shared files: C:/Users/Zach/Anaconda3/R/library/rgdal/proj\n",
      " Linking to sp version: 1.2-3 \n"
     ]
    }
   ],
   "source": [
    "library(sp)\n",
    "library(rhdf5)\n",
    "library(raster)\n",
    "library(rgdal)\n",
    "\n",
    "#File name and group where data is located\n",
    "input_file=paste0('SMAP.h5')#file name and path\n",
    "group='Geophysical_Data'\n",
    "h5f=H5Fopen(input_file)\n",
    "h5f&'Geophysical_Data'#Print out all datasets in the geophysical data group"
   ]
  },
  {
   "cell_type": "markdown",
   "metadata": {},
   "source": [
    "Define datasets and read data from h5 file and create raster"
   ]
  },
  {
   "cell_type": "code",
   "execution_count": null,
   "metadata": {
    "collapsed": false
   },
   "outputs": [],
   "source": [
    "#Define datasets\n",
    "dataset='sm_rootzone'#possible set to read in\n",
    "missing_vals=-9999\n",
    "#read h5 file and get data from desired set\n",
    "input <- h5read(input_file, paste0('/', group, '/', dataset))\n",
    "#exclude missing values\n",
    "input[input == missing_vals] <- NA\n",
    "#create raster(transpose to )\n",
    "r <- raster(t(input))"
   ]
  },
  {
   "cell_type": "markdown",
   "metadata": {},
   "source": [
    "Create vectors of longitude and latitude and define extent for projection using these ranges"
   ]
  },
  {
   "cell_type": "code",
   "execution_count": null,
   "metadata": {
    "collapsed": false
   },
   "outputs": [],
   "source": [
    "#create vector of lat/lon values\n",
    "lat <- apply(h5read(input_file, '/cell_lat'), 2, unique)\n",
    "lon <- apply(h5read(input_file, '/cell_lon'), 2, unique)\n",
    "#geographical crs input\n",
    "crs = '+proj=longlat +lat_0=0 +lon_0=0 +lat_ts=30 \n",
    "                +ellps=WGS84 +datum=WGS84 +units=m'\n",
    "crs_in = '+proj=cea +lat_0=0 +lon_0=0 +lat_ts=30 \n",
    "                +ellps=WGS84 +datum=WGS84 +units=m'\n",
    "#create raster using lon/lat and create projection using crs_in to \n",
    "#find extent of data\n",
    "ex <- extent(projectExtent(raster(extent(range(lon), range(lat)),\n",
    "                                    crs),\n",
    "                                    crs_in))"
   ]
  },
  {
   "cell_type": "markdown",
   "metadata": {},
   "source": [
    "Set extent and projection of raster using previously defined extent and crs_in for projection"
   ]
  },
  {
   "cell_type": "code",
   "execution_count": null,
   "metadata": {
    "collapsed": true
   },
   "outputs": [],
   "source": [
    "extent(r) <- ex\n",
    "projection(r) <- CRS(crs_in)"
   ]
  },
  {
   "cell_type": "markdown",
   "metadata": {},
   "source": [
    "Create final SMAP raster"
   ]
  },
  {
   "cell_type": "code",
   "execution_count": null,
   "metadata": {
    "collapsed": true
   },
   "outputs": [],
   "source": [
    "crs_out = \"+init=epsg:4326\"#defines global coordinate reference system\n",
    "smap <- projectRaster(r, crs = crs_out)\n",
    "#output raster to geotiff file\n",
    "writeRaster(smap, 'smap_raw.tif',\n",
    "            format = 'GTiff', overwrite = TRUE)"
   ]
  },
  {
   "cell_type": "markdown",
   "metadata": {},
   "source": [
    "## Process and create raster stack"
   ]
  },
  {
   "cell_type": "markdown",
   "metadata": {},
   "source": [
    "Change allBands if you want to use all available bands"
   ]
  },
  {
   "cell_type": "code",
   "execution_count": null,
   "metadata": {
    "collapsed": true
   },
   "outputs": [],
   "source": [
    "allBands=FALSE#true if using all bands"
   ]
  },
  {
   "cell_type": "markdown",
   "metadata": {},
   "source": [
    "If using specific bands create a list with just the bands being used"
   ]
  },
  {
   "cell_type": "code",
   "execution_count": null,
   "metadata": {
    "collapsed": true
   },
   "outputs": [],
   "source": [
    "#if using specific bands\n",
    "if(!allBands){\n",
    "    bands<-c(2,3,4,5,9)#possible selection of bands\n",
    "}"
   ]
  },
  {
   "cell_type": "markdown",
   "metadata": {},
   "source": [
    "If using all bands list will contain all available bands"
   ]
  },
  {
   "cell_type": "code",
   "execution_count": null,
   "metadata": {
    "collapsed": true
   },
   "outputs": [],
   "source": [
    "#if using all bands\n",
    "if(allBands){\n",
    "    numbands=9#?\n",
    "    bands<-range(1,numbands)\n",
    "}"
   ]
  },
  {
   "cell_type": "markdown",
   "metadata": {},
   "source": [
    "Loop through list of bands (works with all or specific bands) and create raster from each geotiff file then add raster to list to be added to stack"
   ]
  },
  {
   "cell_type": "code",
   "execution_count": null,
   "metadata": {
    "collapsed": true
   },
   "outputs": [],
   "source": [
    "#standard lsat file name contains the seceneID_band number\n",
    "sceneID='LC80330322015099LGN00'\n",
    "lsat_file=paste0(sceneID,'_B')\n",
    "#list of each raster to be contained in stack (all bands plus SMAP)\n",
    "x=vector(\"list\",length(bands)+1)\n",
    "j=1\n",
    "for(i in bands){\n",
    "  if(file.exists(paste0('R/data/',lsat_file,i,'.tif'))){\n",
    "    x[[j]] <-raster(paste0('R/data/',lsat_file,i,'.tif'))#read file\n",
    "  }else{\n",
    "    x[[j]] <-NULL  #if file doesn't exist exclude band from stack\n",
    "  }\n",
    "  j=j+1\n",
    "}"
   ]
  },
  {
   "cell_type": "markdown",
   "metadata": {},
   "source": [
    "Project SMAP onto lsat. By including the lsat raster that smap will be projected to, there is no need to include crs or res values. Next mask smap to lsat. This takes missing values in smap (set to NA earlier) and masks them with the values in lsat data"
   ]
  },
  {
   "cell_type": "code",
   "execution_count": null,
   "metadata": {
    "collapsed": true
   },
   "outputs": [],
   "source": [
    "#match resolution of smap and lsat data\n",
    "smap <-projectRaster(smap, to = x[[1]])\n",
    "#match extent\n",
    "smap <-mask(smap,x[[1]])\n",
    "x[[j]] <-smap"
   ]
  },
  {
   "cell_type": "markdown",
   "metadata": {},
   "source": [
    "Create and save raster stack to a geotiff file"
   ]
  },
  {
   "cell_type": "code",
   "execution_count": null,
   "metadata": {
    "collapsed": true
   },
   "outputs": [],
   "source": [
    "#create raster stack\n",
    "stck <-stack(x)\n",
    "#save raster stack to a geotiff file\n",
    "writeRaster(stck,'lsat_smap_stack.tif', format = 'GTiff', overwrite=TRUE)"
   ]
  },
  {
   "cell_type": "markdown",
   "metadata": {},
   "source": [
    "The raster library has many useful functions that allow you to better understand the data stored in the raster stack. The names function for example allows you to see the what is in each layer, ad change layer names to make this more clear. addLayer and dropLayer allow you to add a layer to or remove a layer from the stack"
   ]
  }
 ],
 "metadata": {
  "kernelspec": {
   "display_name": "R",
   "language": "R",
   "name": "ir"
  },
  "language_info": {
   "codemirror_mode": "r",
   "file_extension": ".r",
   "mimetype": "text/x-r-source",
   "name": "R",
   "pygments_lexer": "r",
   "version": "3.2.4"
  }
 },
 "nbformat": 4,
 "nbformat_minor": 0
}