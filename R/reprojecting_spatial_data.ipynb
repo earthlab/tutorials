{
 "cells": [
  {
   "cell_type": "markdown",
   "metadata": {},
   "source": [
    "# Project SMAP data onto Landsat data and save as raster stack"
   ]
  },
  {
   "cell_type": "markdown",
   "metadata": {},
   "source": [
    "## About\n",
    "\n",
    "The National Snow and Ice Data Center hosts soil moisture data (from the NASA Soil Moisture Active Passive project, described [here](https://nsidc.org/data/smap), and hereafter referred to as SMAP). An important skill for analyzing the SMAP data is the ability to re-project the spatial data to spatial data collected from seperate sources, and covering different spatial extents. One such data source is the joint U.S. Geological Services (USGS) and NASA [Landsat Project](http://landsat.usgs.gov//about_project_descriptions.php). \n",
    "\n",
    "This tutorial outlines how to acquire SMAP and Landsat data, project SMAP data onto Landsat images, and create a Raster containing all of the resulting data. This will briefly cover creating a Raster from SMAP data (which comes in hdf5 format), but for a more detailed explanation refer to the smap_to_raster template."
   ]
  },
  {
   "cell_type": "markdown",
   "metadata": {},
   "source": [
    "## Objectives\n",
    "\n",
    "- Read SMAP data from h5 file\n",
    "- Create raster\n",
    "- Create rasters from Landsat data\n",
    "- Project SMAP data onto Landsat data\n",
    "- Create raster stack containing bands from Landsat data and projection of SMAP data"
   ]
  },
  {
   "cell_type": "markdown",
   "metadata": {
    "collapsed": true
   },
   "source": [
    "## Prerequisites"
   ]
  },
  {
   "cell_type": "markdown",
   "metadata": {},
   "source": [
    "Necessary libraries- \n",
    "    - rhdf5\n",
    "    - raster\n",
    "    - rdgal\n",
    "    - sp\n",
    "Install these packages using the following code"
   ]
  },
  {
   "cell_type": "code",
   "execution_count": null,
   "metadata": {
    "collapsed": false
   },
   "outputs": [],
   "source": [
    "install.packages(\"sp\", repos=\"http://cran.rstudio.com/\")\n",
    "install.packages(\"raster\", repos=\"http://cran.rstudio.com/\")\n",
    "install.packages(\"rgdal\", repos=\"http://cran.rstudio.com/\")\n",
    "source(\"https://bioconductor.org/biocLite.R\")\n",
    "biocLite(\"rhdf5\")"
   ]
  },
  {
   "cell_type": "markdown",
   "metadata": {},
   "source": [
    "If you already have these packages installed confirm that you are using the most up-to-date versions"
   ]
  },
  {
   "cell_type": "code",
   "execution_count": null,
   "metadata": {
    "collapsed": false
   },
   "outputs": [],
   "source": [
    "update.packages(\"sp\",repos=\"http://cran.rstudio.com/\")\n",
    "update.packages(\"raster\",repos=\"http://cran.rstudio.com/\")\n",
    "source(\"https://bioconductor.org/biocLite.R\")\n",
    "biocLite(\"rgdal\")\n",
    "biocLite(\"rhdf5\")"
   ]
  },
  {
   "cell_type": "markdown",
   "metadata": {},
   "source": [
    "## Getting Data\n",
    "\n",
    "### SMAP\n",
    "\n",
    "To access the SMAP data call download.file, with the first argument being the url where the data is located, and the second being the file name and path where you want to store the data this can be repeated with as many files as are needed."
   ]
  },
  {
   "cell_type": "code",
   "execution_count": null,
   "metadata": {
    "collapsed": false
   },
   "outputs": [],
   "source": [
    "input_file='SMAP.h5'#file name and path\n",
    "download.file('ftp://n5eil01u.ecs.nsidc.org/SAN/SMAP/SPL4SMGP.001/2015.04.01/SMAP_L4_SM_gph_20150401T013000_Vb1010_001.h5',\n",
    "             input_file)"
   ]
  },
  {
   "cell_type": "markdown",
   "metadata": {},
   "source": [
    "### Landsat\n",
    "\n",
    "To acquire landsat data you will need the landsat-util command line utility. Information on installation can be found [here](http://landsat-util.readthedocs.io/en/latest/installation.html). If you are using windows be sure to first install [Docker](https://docs.docker.com/windows/), and follow the instructions under the landsat-util installation instructions in the Docker section. \n",
    "\n",
    "Once you have installed landsat-util you can use the landsat commands described [here](http://landsat-util.readthedocs.io/en/latest/overview.html), to search for and download landsat data. Remember if you are using windows this will all be done in the Docker teminal, and each landsat command must be proceeded with:\n",
    "\n",
    "docker run -it -v ~/landsat:/root/landsat developmentseed/landsat-util:latest"
   ]
  },
  {
   "cell_type": "markdown",
   "metadata": {},
   "source": [
    "## Reading SMAP\n",
    "\n",
    "Include necessary packages, and find the dataset(s) you would like to read in"
   ]
  },
  {
   "cell_type": "code",
   "execution_count": null,
   "metadata": {
    "collapsed": false
   },
   "outputs": [],
   "source": [
    "suppressWarnings(library(sp))\n",
    "suppressWarnings(library(raster))\n",
    "suppressWarnings(library(rhdf5))\n",
    "suppressWarnings(library(rgdal))\n",
    "\n",
    "#File name and group where data is located\n",
    "input_file='SMAP.h5'#file name and path\n",
    "group='Geophysical_Data'\n",
    "h5f <- H5Fopen(input_file)\n",
    "h5f&'Geophysical_Data'#Print out all datasets in the geophysical data group"
   ]
  },
  {
   "cell_type": "markdown",
   "metadata": {},
   "source": [
    "Define datasets to read from SMAP h5 file"
   ]
  },
  {
   "cell_type": "code",
   "execution_count": null,
   "metadata": {
    "collapsed": false,
    "scrolled": true
   },
   "outputs": [],
   "source": [
    "#Define datasets\n",
    "data_to_read <- 'sm_rootzone'#possible set to read in\n",
    "missing_vals <- -9999"
   ]
  },
  {
   "cell_type": "markdown",
   "metadata": {},
   "source": [
    "Create vectors of longitude and latitude and define extent for projection using these ranges and create SMAP rasters"
   ]
  },
  {
   "cell_type": "code",
   "execution_count": null,
   "metadata": {
    "collapsed": false,
    "scrolled": true
   },
   "outputs": [],
   "source": [
    "get_dataset <- function(group, dataset) {\n",
    "  # helper function to create dataset paths, given a group and dataset\n",
    "  dataset_path <- paste0('/', group, '/', dataset)\n",
    "  dataset_path\n",
    "}\n",
    "# find spacial extent of SMAP image\n",
    "lat <- suppressWarnings(apply(h5read(input_file, '/cell_lat'), 2, unique))\n",
    "lon <- suppressWarnings(apply(h5read(input_file, '/cell_lon'), 2, unique))\n",
    "xmn <- min(lat)\n",
    "xmx <- max(lat)\n",
    "ymn <- min(lon)\n",
    "ymx <- max(lon)\n",
    "crs_out = \"+init=epsg:4326\"\n",
    "\n",
    "# read in each dataset and create raster\n",
    "data_array <- suppressWarnings(h5read(input_file, get_dataset(group, data_to_read)))\n",
    "data_array <- t(data_array)\n",
    "smap <- raster(data_array, xmn, xmx, ymn, ymx, crs_out)"
   ]
  },
  {
   "cell_type": "markdown",
   "metadata": {},
   "source": [
    "## Process and create raster stack"
   ]
  },
  {
   "cell_type": "markdown",
   "metadata": {},
   "source": [
    "Change `all_bands` if you want to use all available bands"
   ]
  },
  {
   "cell_type": "code",
   "execution_count": null,
   "metadata": {
    "collapsed": true
   },
   "outputs": [],
   "source": [
    "all_bands <- FALSE#true if using all bands"
   ]
  },
  {
   "cell_type": "markdown",
   "metadata": {},
   "source": [
    "If using specific bands create a list with just those bands"
   ]
  },
  {
   "cell_type": "code",
   "execution_count": null,
   "metadata": {
    "collapsed": true
   },
   "outputs": [],
   "source": [
    "#if using specific bands\n",
    "if (!all_bands) {\n",
    "    bands <- c(2,3,4,5,9)#possible selection of bands\n",
    "}"
   ]
  },
  {
   "cell_type": "markdown",
   "metadata": {},
   "source": [
    "If using all bands list will contain all available bands"
   ]
  },
  {
   "cell_type": "code",
   "execution_count": null,
   "metadata": {
    "collapsed": true
   },
   "outputs": [],
   "source": [
    "#if using all bands\n",
    "if (all_bands) {\n",
    "    num_bands <- 9#?\n",
    "    bands <- range(1,num_bands)\n",
    "}"
   ]
  },
  {
   "cell_type": "markdown",
   "metadata": {},
   "source": [
    "Loop through list of bands (works with all or specific bands) and create raster from each geotiff file then add raster to list. to be added to stack"
   ]
  },
  {
   "cell_type": "code",
   "execution_count": null,
   "metadata": {
    "collapsed": false
   },
   "outputs": [],
   "source": [
    "get_lsat_file <- function(dir_path, scenId, band_number) {\n",
    "    #helper function to create file name for each lsat band\n",
    "    lsat_file <- paste0(dir_path, sceneID, '_B', band_number,'.tif')\n",
    "}\n",
    "\n",
    "# standard lsat file name contains the seceneID_band number\n",
    "sceneID <- 'LC80330322015099LGN00'\n",
    "dir_path <- 'data/'# path to where lsat data is saved\n",
    "#list of each raster to be contained in stack (all bands plus SMAP)\n",
    "raster_list <- vector(\"list\",length(bands)+1)\n",
    "# loop through each band and create raster\n",
    "j <- 1\n",
    "for (i in bands) {\n",
    "    lsat_file <- get_lsat_file(dir_path, sceneID, i)\n",
    "    if(file.exists(lsat_file)){\n",
    "        raster_list[[j]] <- raster(lsat_file)#read file\n",
    "    } else {\n",
    "        raster_list[[j]] <- NULL  # if file doesn't exist exclude band from stack\n",
    "    }\n",
    "    j <- j + 1\n",
    "}\n",
    "raster_list[[j-1]]\n",
    "smap"
   ]
  },
  {
   "cell_type": "markdown",
   "metadata": {},
   "source": [
    "The [projectRaster](http://www.inside-r.org/packages/cran/raster/docs/projectRaster) and [mask](http://www.inside-r.org/packages/cran/raster/docs/mask) functions are used to create the final projection. By including the Landsat raster as the second argument in the `projectRaster()` function the resolution and extent of the SMAP raster will automatically be matched to those of Landsat. The `mask()` function then takes the missing values in the SMAP data (set to NA earlier), and masks them with values from the Landsat image."
   ]
  },
  {
   "cell_type": "code",
   "execution_count": null,
   "metadata": {
    "collapsed": false
   },
   "outputs": [],
   "source": [
    "# match resolution/extent of smap and lsat data\n",
    "suppressWarnings(smap <- projectRaster(smap, to = raster_list[[1]]))\n",
    "# match extent\n",
    "smap <- mask(smap, raster_list[[1]])\n",
    "raster_list[[j]] <- smap"
   ]
  },
  {
   "cell_type": "markdown",
   "metadata": {},
   "source": [
    "Create raster stack, and save to geotiff file."
   ]
  },
  {
   "cell_type": "code",
   "execution_count": null,
   "metadata": {
    "collapsed": true
   },
   "outputs": [],
   "source": [
    "# create raster stack\n",
    "projected_stack <- stack(raster_list)\n",
    "# save raster stack to a geotiff file\n",
    "writeRaster(projected_stack,'lsat_smap_stack.tif', \n",
    "            format = 'GTiff', overwrite=TRUE)"
   ]
  }
 ],
 "metadata": {
  "kernelspec": {
   "display_name": "R",
   "language": "R",
   "name": "ir"
  },
  "language_info": {
   "codemirror_mode": "r",
   "file_extension": ".r",
   "mimetype": "text/x-r-source",
   "name": "R",
   "pygments_lexer": "r",
   "version": "3.2.4"
  }
 },
 "nbformat": 4,
 "nbformat_minor": 0
}
